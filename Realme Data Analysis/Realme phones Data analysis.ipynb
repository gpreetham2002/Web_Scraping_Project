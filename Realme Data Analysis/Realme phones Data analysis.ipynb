{
 "cells": [
  {
   "cell_type": "code",
   "execution_count": 47,
   "metadata": {},
   "outputs": [],
   "source": [
    "\n",
    "import pandas as pd\n",
    "import matplotlib.pyplot as plt\n",
    "import seaborn as sns\n",
    "import numpy as np\n"
   ]
  },
  {
   "cell_type": "code",
   "execution_count": 48,
   "metadata": {},
   "outputs": [],
   "source": [
    "\n",
    "data = pd.read_csv('flipkart_realme4.csv')\n",
    "del data['Unnamed: 0']\n"
   ]
  },
  {
   "cell_type": "code",
   "execution_count": 49,
   "metadata": {},
   "outputs": [
    {
     "data": {
      "text/html": [
       "<div><div id=6a0a597b-cea9-4cfe-82aa-ecefe1315c60 style=\"display:none; background-color:#9D6CFF; color:white; width:200px; height:30px; padding-left:5px; border-radius:4px; flex-direction:row; justify-content:space-around; align-items:center;\" onmouseover=\"this.style.backgroundColor='#BA9BF8'\" onmouseout=\"this.style.backgroundColor='#9D6CFF'\" onclick=\"window.commands?.execute('create-mitosheet-from-dataframe-output');\">See Full Dataframe in Mito</div> <script> if (window.commands.hasCommand('create-mitosheet-from-dataframe-output')) document.getElementById('6a0a597b-cea9-4cfe-82aa-ecefe1315c60').style.display = 'flex' </script> <table border=\"1\" class=\"dataframe\">\n",
       "  <thead>\n",
       "    <tr style=\"text-align: right;\">\n",
       "      <th></th>\n",
       "      <th>mobile</th>\n",
       "      <th>processor</th>\n",
       "      <th>display</th>\n",
       "      <th>Storage</th>\n",
       "      <th>ram</th>\n",
       "      <th>rom</th>\n",
       "      <th>rear_camera(in MP)</th>\n",
       "      <th>price</th>\n",
       "      <th>battery</th>\n",
       "      <th>rating</th>\n",
       "      <th>warranty</th>\n",
       "    </tr>\n",
       "  </thead>\n",
       "  <tbody>\n",
       "    <tr>\n",
       "      <th>0</th>\n",
       "      <td>realme Narzo 50i (Mint Green, 32 GB)</td>\n",
       "      <td>SC9863A</td>\n",
       "      <td>16.51</td>\n",
       "      <td>32</td>\n",
       "      <td>2</td>\n",
       "      <td>32</td>\n",
       "      <td>8</td>\n",
       "      <td>7499</td>\n",
       "      <td>5000</td>\n",
       "      <td>4.5</td>\n",
       "      <td>1</td>\n",
       "    </tr>\n",
       "    <tr>\n",
       "      <th>1</th>\n",
       "      <td>realme Narzo 50i (Carbon Black, 32 GB)</td>\n",
       "      <td>SC9863A</td>\n",
       "      <td>16.51</td>\n",
       "      <td>32</td>\n",
       "      <td>2</td>\n",
       "      <td>32</td>\n",
       "      <td>8</td>\n",
       "      <td>7499</td>\n",
       "      <td>5000</td>\n",
       "      <td>4.5</td>\n",
       "      <td>1</td>\n",
       "    </tr>\n",
       "    <tr>\n",
       "      <th>2</th>\n",
       "      <td>realme Narzo 50i (Mint Green, 64 GB)</td>\n",
       "      <td>SC9863A</td>\n",
       "      <td>NaN</td>\n",
       "      <td>64</td>\n",
       "      <td>4</td>\n",
       "      <td>64</td>\n",
       "      <td>8</td>\n",
       "      <td>8999</td>\n",
       "      <td>5000</td>\n",
       "      <td>4.3</td>\n",
       "      <td>1</td>\n",
       "    </tr>\n",
       "    <tr>\n",
       "      <th>3</th>\n",
       "      <td>realme Narzo 50i (Carbon Black, 64 GB)</td>\n",
       "      <td>SC9863A</td>\n",
       "      <td>16.51</td>\n",
       "      <td>64</td>\n",
       "      <td>4</td>\n",
       "      <td>64</td>\n",
       "      <td>8</td>\n",
       "      <td>8999</td>\n",
       "      <td>5000</td>\n",
       "      <td>4.3</td>\n",
       "      <td>1</td>\n",
       "    </tr>\n",
       "    <tr>\n",
       "      <th>4</th>\n",
       "      <td>realme 9i (Prism Blue, 64 GB)</td>\n",
       "      <td>SM6225</td>\n",
       "      <td>16.76</td>\n",
       "      <td>64</td>\n",
       "      <td>4</td>\n",
       "      <td>64</td>\n",
       "      <td>50</td>\n",
       "      <td>13499</td>\n",
       "      <td>5000</td>\n",
       "      <td>4.5</td>\n",
       "      <td>1</td>\n",
       "    </tr>\n",
       "    <tr>\n",
       "      <th>...</th>\n",
       "      <td>...</td>\n",
       "      <td>...</td>\n",
       "      <td>...</td>\n",
       "      <td>...</td>\n",
       "      <td>...</td>\n",
       "      <td>...</td>\n",
       "      <td>...</td>\n",
       "      <td>...</td>\n",
       "      <td>...</td>\n",
       "      <td>...</td>\n",
       "      <td>...</td>\n",
       "    </tr>\n",
       "    <tr>\n",
       "      <th>19</th>\n",
       "      <td>realme 9 Pro+ 5G (Sunrise Blue, 128 GB)</td>\n",
       "      <td>920</td>\n",
       "      <td>16.26</td>\n",
       "      <td>128</td>\n",
       "      <td>8</td>\n",
       "      <td>28</td>\n",
       "      <td>50</td>\n",
       "      <td>26999</td>\n",
       "      <td>4500</td>\n",
       "      <td>4.3</td>\n",
       "      <td>1</td>\n",
       "    </tr>\n",
       "    <tr>\n",
       "      <th>20</th>\n",
       "      <td>realme 9 Pro+ 5G (Aurora Green, 128 GB)</td>\n",
       "      <td>920</td>\n",
       "      <td>16.26</td>\n",
       "      <td>128</td>\n",
       "      <td>6</td>\n",
       "      <td>28</td>\n",
       "      <td>50</td>\n",
       "      <td>24999</td>\n",
       "      <td>4500</td>\n",
       "      <td>4.3</td>\n",
       "      <td>1</td>\n",
       "    </tr>\n",
       "    <tr>\n",
       "      <th>21</th>\n",
       "      <td>realme C35 (Glowing Green, 128 GB)</td>\n",
       "      <td>T616</td>\n",
       "      <td>16.76</td>\n",
       "      <td>128</td>\n",
       "      <td>4</td>\n",
       "      <td>28</td>\n",
       "      <td>50</td>\n",
       "      <td>12999</td>\n",
       "      <td>5000</td>\n",
       "      <td>4.4</td>\n",
       "      <td>1</td>\n",
       "    </tr>\n",
       "    <tr>\n",
       "      <th>22</th>\n",
       "      <td>realme C35 (Glowing Black, 128 GB)</td>\n",
       "      <td>T616</td>\n",
       "      <td>16.76</td>\n",
       "      <td>128</td>\n",
       "      <td>4</td>\n",
       "      <td>28</td>\n",
       "      <td>50</td>\n",
       "      <td>12999</td>\n",
       "      <td>5000</td>\n",
       "      <td>4.4</td>\n",
       "      <td>1</td>\n",
       "    </tr>\n",
       "    <tr>\n",
       "      <th>23</th>\n",
       "      <td>realme 9 Pro+ 5G (Aurora Green, 256 GB)</td>\n",
       "      <td>920</td>\n",
       "      <td>16.26</td>\n",
       "      <td>256</td>\n",
       "      <td>8</td>\n",
       "      <td>56</td>\n",
       "      <td>50</td>\n",
       "      <td>28999</td>\n",
       "      <td>4500</td>\n",
       "      <td>4.3</td>\n",
       "      <td>1</td>\n",
       "    </tr>\n",
       "  </tbody>\n",
       "</table></div>"
      ],
      "text/plain": [
       "                                      mobile processor  display  Storage  ram  \\\n",
       "0       realme Narzo 50i (Mint Green, 32 GB)   SC9863A    16.51       32    2   \n",
       "1     realme Narzo 50i (Carbon Black, 32 GB)   SC9863A    16.51       32    2   \n",
       "2       realme Narzo 50i (Mint Green, 64 GB)   SC9863A      NaN       64    4   \n",
       "3     realme Narzo 50i (Carbon Black, 64 GB)   SC9863A    16.51       64    4   \n",
       "4              realme 9i (Prism Blue, 64 GB)    SM6225    16.76       64    4   \n",
       "5            realme 9i (Prism Black, 128 GB)    SM6225    16.76      128    6   \n",
       "6            realme 9i (Prism Black, 128 GB)    SM6225    16.76      128    4   \n",
       "7             realme 9i (Prism Black, 64 GB)    SM6225    16.76       64    4   \n",
       "8          realme C35 (Glowing Black, 64 GB)      T616    16.76       64    4   \n",
       "9          realme C35 (Glowing Green, 64 GB)      T616    16.76       64    4   \n",
       "10   realme 9 Pro+ 5G (Aurora Green, 128 GB)       920    16.26      128    8   \n",
       "11            realme 9i (Prism Blue, 128 GB)    SM6225    16.76      128    4   \n",
       "12            realme 9i (Prism Blue, 128 GB)    SM6225    16.76      128    6   \n",
       "13          realme C31 (Light Silver, 32 GB)      T612    16.56       32    3   \n",
       "14            realme C31 (Dark Green, 32 GB)      T612      NaN       32    3   \n",
       "15          realme C31 (Light Silver, 64 GB)      T612    16.56       64    4   \n",
       "16            realme C31 (Dark Green, 64 GB)      T612    16.56       64    4   \n",
       "17  realme 9 Pro 5G (Midnight Black, 128 GB)       695    16.76      128    6   \n",
       "18    realme 9 Pro 5G (Aurora Green, 128 GB)       695    16.76      128    6   \n",
       "19   realme 9 Pro+ 5G (Sunrise Blue, 128 GB)       920    16.26      128    8   \n",
       "20   realme 9 Pro+ 5G (Aurora Green, 128 GB)       920    16.26      128    6   \n",
       "21        realme C35 (Glowing Green, 128 GB)      T616    16.76      128    4   \n",
       "22        realme C35 (Glowing Black, 128 GB)      T616    16.76      128    4   \n",
       "23   realme 9 Pro+ 5G (Aurora Green, 256 GB)       920    16.26      256    8   \n",
       "\n",
       "    rom  rear_camera(in MP)  price  battery  rating  warranty  \n",
       "0    32                   8   7499     5000     4.5         1  \n",
       "1    32                   8   7499     5000     4.5         1  \n",
       "2    64                   8   8999     5000     4.3         1  \n",
       "3    64                   8   8999     5000     4.3         1  \n",
       "4    64                  50  13499     5000     4.5         1  \n",
       "5    28                  50  15999     5000     4.5         1  \n",
       "6    28                  50  14999     5000     4.5         1  \n",
       "7    64                  50  13499     5000     4.5         1  \n",
       "8    64                  50  11999     5000     4.4         1  \n",
       "9    64                  50  11999     5000     4.4         1  \n",
       "10   28                  50  26999     4500     4.3         1  \n",
       "11   28                  50  14999     5000     4.5         1  \n",
       "12   28                  50  15999     5000     4.5         1  \n",
       "13   32                  13   9299     5000     4.5         1  \n",
       "14   32                  13   9299     5000     4.5         1  \n",
       "15   64                  13   9999     5000     4.4         1  \n",
       "16   64                  13   9999     5000     4.4         1  \n",
       "17   28                  64  18999     5000     4.3         1  \n",
       "18   28                  64  18999     5000     4.3         1  \n",
       "19   28                  50  26999     4500     4.3         1  \n",
       "20   28                  50  24999     4500     4.3         1  \n",
       "21   28                  50  12999     5000     4.4         1  \n",
       "22   28                  50  12999     5000     4.4         1  \n",
       "23   56                  50  28999     4500     4.3         1  "
      ]
     },
     "execution_count": 49,
     "metadata": {},
     "output_type": "execute_result"
    }
   ],
   "source": [
    "\n",
    "data\n"
   ]
  },
  {
   "cell_type": "code",
   "execution_count": 50,
   "metadata": {},
   "outputs": [
    {
     "data": {
      "text/plain": [
       "mobile                0\n",
       "processor             0\n",
       "display               2\n",
       "Storage               0\n",
       "ram                   0\n",
       "rom                   0\n",
       "rear_camera(in MP)    0\n",
       "price                 0\n",
       "battery               0\n",
       "rating                0\n",
       "warranty              0\n",
       "dtype: int64"
      ]
     },
     "execution_count": 50,
     "metadata": {},
     "output_type": "execute_result"
    }
   ],
   "source": [
    "\n",
    "data.isnull().sum() #Dealing with missing data\n"
   ]
  },
  {
   "cell_type": "code",
   "execution_count": 51,
   "metadata": {},
   "outputs": [
    {
     "data": {
      "text/plain": [
       "16.76    12\n",
       "16.26     4\n",
       "16.51     3\n",
       "16.56     3\n",
       "Name: display, dtype: int64"
      ]
     },
     "execution_count": 51,
     "metadata": {},
     "output_type": "execute_result"
    }
   ],
   "source": [
    "\n",
    "data['display'].value_counts()\n"
   ]
  },
  {
   "cell_type": "code",
   "execution_count": 52,
   "metadata": {},
   "outputs": [],
   "source": [
    "\n",
    "data['display'].fillna(data['display'].mode()[0], inplace = True) #Since display is a categorical parameter\n"
   ]
  },
  {
   "cell_type": "code",
   "execution_count": 53,
   "metadata": {},
   "outputs": [
    {
     "data": {
      "text/plain": [
       "16.76    14\n",
       "16.26     4\n",
       "16.51     3\n",
       "16.56     3\n",
       "Name: display, dtype: int64"
      ]
     },
     "execution_count": 53,
     "metadata": {},
     "output_type": "execute_result"
    }
   ],
   "source": [
    "\n",
    "data['display'].value_counts()\n"
   ]
  },
  {
   "cell_type": "code",
   "execution_count": 54,
   "metadata": {},
   "outputs": [
    {
     "data": {
      "text/plain": [
       "mobile                0\n",
       "processor             0\n",
       "display               0\n",
       "Storage               0\n",
       "ram                   0\n",
       "rom                   0\n",
       "rear_camera(in MP)    0\n",
       "price                 0\n",
       "battery               0\n",
       "rating                0\n",
       "warranty              0\n",
       "dtype: int64"
      ]
     },
     "execution_count": 54,
     "metadata": {},
     "output_type": "execute_result"
    }
   ],
   "source": [
    "\n",
    "data.isnull().sum()\n"
   ]
  },
  {
   "cell_type": "code",
   "execution_count": 55,
   "metadata": {},
   "outputs": [
    {
     "data": {
      "text/plain": [
       "(array([6., 2., 6., 4., 0., 2., 0., 0., 1., 3.]),\n",
       " array([ 7499.,  9649., 11799., 13949., 16099., 18249., 20399., 22549.,\n",
       "        24699., 26849., 28999.]),\n",
       " <a list of 10 Patch objects>)"
      ]
     },
     "execution_count": 55,
     "metadata": {},
     "output_type": "execute_result"
    },
    {
     "data": {
      "image/png": "[encoded data removed]",
      "text/plain": [
       "<Figure size 432x288 with 1 Axes>"
      ]
     },
     "metadata": {
      "needs_background": "light"
     },
     "output_type": "display_data"
    }
   ],
   "source": [
    "# Plot1\n",
    "plt.hist(data['price'])\n"
   ]
  },
  {
   "cell_type": "code",
   "execution_count": 56,
   "metadata": {},
   "outputs": [
    {
     "data": {
      "text/plain": [
       "<matplotlib.collections.PathCollection at 0x1e041953f10>"
      ]
     },
     "execution_count": 56,
     "metadata": {},
     "output_type": "execute_result"
    },
    {
     "data": {
      "image/png": "[encoded data removed]",
      "text/plain": [
       "<Figure size 432x288 with 1 Axes>"
      ]
     },
     "metadata": {
      "needs_background": "light"
     },
     "output_type": "display_data"
    }
   ],
   "source": [
    "# Plot2\n",
    "data.rename(columns = {'Storage' : 'storage'}, inplace = True)\n",
    "plt.scatter(data['storage'], data['rating']) #Nothing is observed\n"
   ]
  },
  {
   "cell_type": "code",
   "execution_count": 57,
   "metadata": {},
   "outputs": [
    {
     "data": {
      "text/plain": [
       "Text(0, 0.5, 'price')"
      ]
     },
     "execution_count": 57,
     "metadata": {},
     "output_type": "execute_result"
    },
    {
     "data": {
      "image/png": "[encoded data removed]",
      "text/plain": [
       "<Figure size 432x288 with 3 Axes>"
      ]
     },
     "metadata": {
      "needs_background": "light"
     },
     "output_type": "display_data"
    }
   ],
   "source": [
    "\n",
    "# Plot3\n",
    "plt.subplot(151)\n",
    "data.groupby('ram')['price'].mean().plot(kind = 'bar')\n",
    "plt.ylabel('price')\n",
    "plt.subplot(153)\n",
    "data.groupby('storage')['price'].mean().plot(kind = 'bar')\n",
    "plt.ylabel('price')\n",
    "plt.subplot(155)\n",
    "data.groupby('display')['price'].mean().plot(kind = 'bar')\n",
    "plt.ylabel('price')\n"
   ]
  },
  {
   "cell_type": "code",
   "execution_count": 58,
   "metadata": {},
   "outputs": [
    {
     "data": {
      "text/plain": [
       "<matplotlib.axes._subplots.AxesSubplot at 0x1e0419bce20>"
      ]
     },
     "execution_count": 58,
     "metadata": {},
     "output_type": "execute_result"
    },
    {
     "data": {
      "image/png": "[encoded data removed]",
      "text/plain": [
       "<Figure size 432x288 with 1 Axes>"
      ]
     },
     "metadata": {
      "needs_background": "light"
     },
     "output_type": "display_data"
    }
   ],
   "source": [
    "\n",
    "# Plot4\n",
    "data.groupby('rear_camera(in MP)')['price'].mean().plot(kind = 'line')\n"
   ]
  },
  {
   "cell_type": "code",
   "execution_count": 59,
   "metadata": {},
   "outputs": [
    {
     "data": {
      "text/plain": [
       "<matplotlib.collections.PathCollection at 0x1e041afda00>"
      ]
     },
     "execution_count": 59,
     "metadata": {},
     "output_type": "execute_result"
    },
    {
     "data": {
      "image/png": "[encoded data removed]",
      "text/plain": [
       "<Figure size 432x288 with 1 Axes>"
      ]
     },
     "metadata": {
      "needs_background": "light"
     },
     "output_type": "display_data"
    }
   ],
   "source": [
    "\n",
    "# Plot5\n",
    "plt.scatter(data['display'], data['price'])\n"
   ]
  },
  {
   "cell_type": "code",
   "execution_count": 60,
   "metadata": {},
   "outputs": [
    {
     "data": {
      "text/plain": [
       "<matplotlib.axes._subplots.AxesSubplot at 0x1e041b2e400>"
      ]
     },
     "execution_count": 60,
     "metadata": {},
     "output_type": "execute_result"
    },
    {
     "data": {
      "image/png": "[encoded data removed]",
      "text/plain": [
       "<Figure size 432x288 with 1 Axes>"
      ]
     },
     "metadata": {
      "needs_background": "light"
     },
     "output_type": "display_data"
    }
   ],
   "source": [
    "\n",
    "# Plot6\n",
    "data.groupby('processor')['price'].mean().plot(kind = 'bar')\n"
   ]
  },
  {
   "cell_type": "code",
   "execution_count": 61,
   "metadata": {
    "scrolled": true
   },
   "outputs": [
    {
     "data": {
      "text/plain": [
       "<matplotlib.collections.PathCollection at 0x1e041bada60>"
      ]
     },
     "execution_count": 61,
     "metadata": {},
     "output_type": "execute_result"
    },
    {
     "data": {
      "image/png": "[encoded data removed]",
      "text/plain": [
       "<Figure size 432x288 with 1 Axes>"
      ]
     },
     "metadata": {
      "needs_background": "light"
     },
     "output_type": "display_data"
    }
   ],
   "source": [
    "\n",
    "# Plot7\n",
    "plt.scatter(data['ram'], data['storage'])\n"
   ]
  },
  {
   "cell_type": "code",
   "execution_count": 73,
   "metadata": {},
   "outputs": [
    {
     "data": {
      "image/png": "[encoded data removed]",
      "text/plain": [
       "<Figure size 432x288 with 2 Axes>"
      ]
     },
     "metadata": {
      "needs_background": "light"
     },
     "output_type": "display_data"
    }
   ],
   "source": [
    "\n",
    "# Plot8\n",
    "plt.subplot(131)\n",
    "data.groupby('battery')['price'].mean().plot(kind = 'bar')\n",
    "plt.subplot(133)\n",
    "plt.scatter(data['battery'], data['processor'])\n",
    "plt.grid()\n"
   ]
  },
  {
   "cell_type": "markdown",
   "metadata": {},
   "source": [
    "\n",
    "Conclusion : \n",
    "\n",
    "Here based on above plots we can observe that :\n",
    "\n",
    "Plot1:\n",
    "We can conclude that mobile prices are in range from 7499.00 to 2899 .00 and mobiles are not available in particular price range in my scrapped data.\n",
    "\n",
    "Plot2:\n",
    "From the 2nd plot we can conclude that there was no relation between storage of a mobile and user rating of the respective mobile, they completely independent variables to each other.\n",
    "\n",
    "Plot3:\n",
    "Mean while in plot3 we can observe that there was a positive correlation of price with respect to ram and storage means as ram and storage get increasing the price of the mobile also increasing. while for display the 16.26 size display mobile is quite expensive compared to other three sizes of display of mobiles. On the other hand the display sizes greater than 16.26 have positive correlation with mobile price.\n",
    "\n",
    "Plot4:\n",
    "In plot4 the as rear camera pixel quality increasing the mobile price also increasing (+ve correlation)\n",
    "\n",
    "Plot6:\n",
    "From plot6 we can analyse that some processors average price higher. we can assume that mobiles contain the processor having high computation power would be more price.\n",
    "\n",
    "so computation power sequence of processors : 920 > 695 > SM6225 > T616 > T212 > SC9863A\n",
    "\n",
    "Plot7:\n",
    "In this we can observe that there was some positive correlation between Ram and Storage, mobile companies like to improve both ram and storage simultaneously for mobiles, since we haven't found mobiles with ram 2GB and having 64GB storage.\n",
    "\n",
    "Plot8:\n",
    "Its intresing to see here that higher prices mobile phones has the battery capacity low. to understand this we have to look at the weight of these mobile phones. let's assume the higher price mobile phones have lower weight.\n",
    "so may be 920 Processor mobile phones lighter weight compared to other mobiles.\n",
    "\n",
    "\n",
    "Final Conclusion :\n",
    "Based on all the above points we found what are factors affecting the price of a mobile in what manner.\n",
    "If you have an queries regarding the code kindly contact me : gpreetham2002@gmail.com.\n"
   ]
  }
 ],
 "metadata": {
  "kernelspec": {
   "display_name": "Python 3",
   "language": "python",
   "name": "python3"
  },
  "language_info": {
   "codemirror_mode": {
    "name": "ipython",
    "version": 3
   },
   "file_extension": ".py",
   "mimetype": "text/x-python",
   "name": "python",
   "nbconvert_exporter": "python",
   "pygments_lexer": "ipython3",
   "version": "3.8.3"
  }
 },
 "nbformat": 4,
 "nbformat_minor": 4
}
