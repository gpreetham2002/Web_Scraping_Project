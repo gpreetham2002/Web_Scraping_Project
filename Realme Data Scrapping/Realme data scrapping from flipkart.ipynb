{
 "cells": [
  {
   "cell_type": "code",
   "execution_count": 36,
   "metadata": {},
   "outputs": [],
   "source": [
    "import pandas as pd\n",
    "from bs4 import BeautifulSoup\n",
    "import requests, csv\n",
    "import numpy as np"
   ]
  },
  {
   "cell_type": "code",
   "execution_count": 37,
   "metadata": {},
   "outputs": [],
   "source": [
    "url = 'https://www.flipkart.com/mobiles/pr?sid=tyy%2C4io&p%5B%5D=facets.brand%255B%255D%3Drealme&p%5B%5D=facets.availability%255B%255D%3DExclude%2BOut%2Bof%2BStock&param=7564&otracker=clp_metro_expandable_1_3.metroExpandable.METRO_EXPANDABLE_Shop%2BNow_mobile-phones-store_Q1PDG4YW86MF_wp3&fm=neo%2Fmerchandising&iid=M_48547b05-10c0-471b-9a18-05e5442f990b_3.Q1PDG4YW86MF&ssid=8m9yu8sizk0000001637817888544'"
   ]
  },
  {
   "cell_type": "code",
   "execution_count": 38,
   "metadata": {},
   "outputs": [
    {
     "data": {
      "text/plain": [
       "24"
      ]
     },
     "execution_count": 38,
     "metadata": {},
     "output_type": "execute_result"
    }
   ],
   "source": [
    "page = requests.get(url)\n",
    "soup = BeautifulSoup(page.content, 'html.parser')\n",
    "mobile = soup.findAll('div', class_ = '_4rR01T')\n",
    "mobile_data = []\n",
    "for i in mobile:\n",
    "    j = i.text\n",
    "    mobile_data.append(j)\n",
    "len(mobile_data)"
   ]
  },
  {
   "cell_type": "code",
   "execution_count": 39,
   "metadata": {},
   "outputs": [
    {
     "data": {
      "text/plain": [
       "24"
      ]
     },
     "execution_count": 39,
     "metadata": {},
     "output_type": "execute_result"
    }
   ],
   "source": [
    "#Price\n",
    "price = soup.findAll('div', class_ = '_30jeq3 _1_WHN1')\n",
    "price_data = []\n",
    "for i in price:\n",
    "    j = i.text\n",
    "    price_data.append(j)\n",
    "    \n",
    "len(price_data)"
   ]
  },
  {
   "cell_type": "code",
   "execution_count": 40,
   "metadata": {},
   "outputs": [
    {
     "data": {
      "text/plain": [
       "(24, 24)"
      ]
     },
     "execution_count": 40,
     "metadata": {},
     "output_type": "execute_result"
    }
   ],
   "source": [
    "len(mobile_data),len(price_data)"
   ]
  },
  {
   "cell_type": "code",
   "execution_count": 41,
   "metadata": {},
   "outputs": [
    {
     "data": {
      "text/plain": [
       "24"
      ]
     },
     "execution_count": 41,
     "metadata": {},
     "output_type": "execute_result"
    }
   ],
   "source": [
    "#Ratings\n",
    "ratings = soup.findAll('div', class_ = '_3LWZlK')\n",
    "rating_data = []\n",
    "for i in ratings:\n",
    "    j = i.text\n",
    "    rating_data.append(j)\n",
    "    \n",
    "len(rating_data)"
   ]
  },
  {
   "cell_type": "code",
   "execution_count": 42,
   "metadata": {},
   "outputs": [
    {
     "data": {
      "text/plain": [
       "24"
      ]
     },
     "execution_count": 42,
     "metadata": {},
     "output_type": "execute_result"
    }
   ],
   "source": [
    "features = soup.findAll('div', class_ = 'fMghEO')\n",
    "features_data = []\n",
    "for i in features:\n",
    "    j = i.text\n",
    "    features_data.append(j)\n",
    "ram = []\n",
    "for i in range(len(features_data)):\n",
    "    ram.append(features_data[i][0])\n",
    "len(ram)"
   ]
  },
  {
   "cell_type": "code",
   "execution_count": 43,
   "metadata": {},
   "outputs": [
    {
     "data": {
      "text/plain": [
       "24"
      ]
     },
     "execution_count": 43,
     "metadata": {},
     "output_type": "execute_result"
    }
   ],
   "source": [
    "#Batteries data extraction\n",
    "\n",
    "battery_data = ['5000', '4500']\n",
    "battery = []\n",
    "for i in range(len(features_data)):\n",
    "    if battery_data[0] in features_data[i]:\n",
    "        battery.append(int(battery_data[0]))\n",
    "    elif battery_data[1] in features_data[i]:\n",
    "        battery.append(int(battery_data[1]))\n",
    "len(battery)"
   ]
  },
  {
   "cell_type": "code",
   "execution_count": 44,
   "metadata": {},
   "outputs": [
    {
     "data": {
      "text/plain": [
       "24"
      ]
     },
     "execution_count": 44,
     "metadata": {},
     "output_type": "execute_result"
    }
   ],
   "source": [
    "# Rear Camera\n",
    "\n",
    "features_data\n",
    "rear_camera = []\n",
    "rear = 'Rear Camera'\n",
    "display = 'Display'\n",
    "for i in range(len(features_data)):\n",
    "    if rear in features_data[i]:\n",
    "        b = features_data[i].index(rear)\n",
    "        if features_data[i][b-4].isdigit() and features_data[i][b-5].isdigit():\n",
    "            rear_camera.append(int(features_data[i][b-5 : b-6]))\n",
    "        else:\n",
    "            rear_camera.append(int(features_data[i][b-4]))\n",
    "    elif display in features_data[i]:\n",
    "\n",
    "        b = features_data[i].index(display)\n",
    "        if features_data[i][b+7].isdigit() and features_data[i][b+8].isdigit():\n",
    "            rear_camera.append(int(features_data[i][b+7 : b+9]))\n",
    "\n",
    "len(rear_camera)"
   ]
  },
  {
   "cell_type": "code",
   "execution_count": 45,
   "metadata": {},
   "outputs": [
    {
     "data": {
      "text/plain": [
       "24"
      ]
     },
     "execution_count": 45,
     "metadata": {},
     "output_type": "execute_result"
    }
   ],
   "source": [
    "#ROM\n",
    "\n",
    "rom = 'ROM'\n",
    "rom_data = []\n",
    "for i in range(len(features_data)):\n",
    "    if rom in features_data[i]:\n",
    "        b = features_data[i].index(rom)\n",
    "        rom_data.append(int(features_data[i][b-6:b-4]))\n",
    "len(rom_data)"
   ]
  },
  {
   "cell_type": "code",
   "execution_count": 46,
   "metadata": {},
   "outputs": [
    {
     "data": {
      "text/plain": [
       "24"
      ]
     },
     "execution_count": 46,
     "metadata": {},
     "output_type": "execute_result"
    }
   ],
   "source": [
    "#Warranty\n",
    "warranty = []\n",
    "for i in range(len(features_data)):\n",
    "    if 'Warranty' in features_data[i]:\n",
    "        warranty.append(1)\n",
    "    else:\n",
    "        warranty.append(0)\n",
    "len(warranty)"
   ]
  },
  {
   "cell_type": "code",
   "execution_count": 47,
   "metadata": {},
   "outputs": [
    {
     "data": {
      "text/plain": [
       "24"
      ]
     },
     "execution_count": 47,
     "metadata": {},
     "output_type": "execute_result"
    }
   ],
   "source": [
    "#Screen size\n",
    "cm = 'cm'\n",
    "cm_data = []\n",
    "for i in range(len(features_data)):\n",
    "    if cm in features_data[i]:\n",
    "        b = features_data[i].index(cm)\n",
    "        cm_data.append(features_data[i][b-6:b-1])\n",
    "len(cm_data)"
   ]
  },
  {
   "cell_type": "code",
   "execution_count": 48,
   "metadata": {},
   "outputs": [
    {
     "data": {
      "text/plain": [
       "24"
      ]
     },
     "execution_count": 48,
     "metadata": {},
     "output_type": "execute_result"
    }
   ],
   "source": [
    "# processor\n",
    "ps = 'Processor'\n",
    "processor_data = ['SC9863A', 'SM6225']\n",
    "processor = []\n",
    "for i in range(len(features_data)):\n",
    "    if processor_data[0] in features_data[i]:\n",
    "        processor.append(processor_data[0])\n",
    "    elif processor_data[1] in features_data[i]:\n",
    "        processor.append(processor_data[1])\n",
    "    else:\n",
    "        b = features_data[i].index(ps)\n",
    "        processor.append(features_data[i][b-5:b-1])\n",
    "        \n",
    "len(processor)\n",
    "        "
   ]
  },
  {
   "cell_type": "code",
   "execution_count": 49,
   "metadata": {},
   "outputs": [
    {
     "data": {
      "text/plain": [
       "(24, 24, 24, 24, 24, 24, 24, 24, 24)"
      ]
     },
     "execution_count": 49,
     "metadata": {},
     "output_type": "execute_result"
    }
   ],
   "source": [
    "len(mobile), len(processor), len(cm_data), len(ram), len(rom_data), len(rear_camera), len(price),len(battery), len(rating_data)"
   ]
  },
  {
   "cell_type": "code",
   "execution_count": 53,
   "metadata": {
    "scrolled": true
   },
   "outputs": [
    {
     "data": {
      "text/html": [
       "<div><div id=733cd749-2383-4220-8f2a-9af324ba4efa style=\"display:none; background-color:#9D6CFF; color:white; width:200px; height:30px; padding-left:5px; border-radius:4px; flex-direction:row; justify-content:space-around; align-items:center;\" onmouseover=\"this.style.backgroundColor='#BA9BF8'\" onmouseout=\"this.style.backgroundColor='#9D6CFF'\" onclick=\"window.commands?.execute('create-mitosheet-from-dataframe-output');\">See Full Dataframe in Mito</div> <script> if (window.commands.hasCommand('create-mitosheet-from-dataframe-output')) document.getElementById('733cd749-2383-4220-8f2a-9af324ba4efa').style.display = 'flex' </script> <table border=\"1\" class=\"dataframe\">\n",
       "  <thead>\n",
       "    <tr style=\"text-align: right;\">\n",
       "      <th></th>\n",
       "      <th>mobile</th>\n",
       "      <th>processor</th>\n",
       "      <th>display</th>\n",
       "      <th>ram</th>\n",
       "      <th>rom</th>\n",
       "      <th>rear_camera(in MP)</th>\n",
       "      <th>price</th>\n",
       "      <th>battery</th>\n",
       "      <th>rating</th>\n",
       "      <th>warranty</th>\n",
       "    </tr>\n",
       "  </thead>\n",
       "  <tbody>\n",
       "    <tr>\n",
       "      <th>0</th>\n",
       "      <td>realme Narzo 50i (Mint Green, 32 GB)</td>\n",
       "      <td>SC9863A</td>\n",
       "      <td>16.51</td>\n",
       "      <td>2</td>\n",
       "      <td>32</td>\n",
       "      <td>8</td>\n",
       "      <td>₹7,499</td>\n",
       "      <td>5000</td>\n",
       "      <td>4.5</td>\n",
       "      <td>1</td>\n",
       "    </tr>\n",
       "    <tr>\n",
       "      <th>1</th>\n",
       "      <td>realme Narzo 50i (Carbon Black, 32 GB)</td>\n",
       "      <td>SC9863A</td>\n",
       "      <td>16.51</td>\n",
       "      <td>2</td>\n",
       "      <td>32</td>\n",
       "      <td>8</td>\n",
       "      <td>₹7,499</td>\n",
       "      <td>5000</td>\n",
       "      <td>4.5</td>\n",
       "      <td>1</td>\n",
       "    </tr>\n",
       "    <tr>\n",
       "      <th>2</th>\n",
       "      <td>realme Narzo 50i (Mint Green, 64 GB)</td>\n",
       "      <td>SC9863A</td>\n",
       "      <td>16.51</td>\n",
       "      <td>4</td>\n",
       "      <td>64</td>\n",
       "      <td>8</td>\n",
       "      <td>₹8,999</td>\n",
       "      <td>5000</td>\n",
       "      <td>4.3</td>\n",
       "      <td>1</td>\n",
       "    </tr>\n",
       "    <tr>\n",
       "      <th>3</th>\n",
       "      <td>realme Narzo 50i (Carbon Black, 64 GB)</td>\n",
       "      <td>SC9863A</td>\n",
       "      <td>16.51</td>\n",
       "      <td>4</td>\n",
       "      <td>64</td>\n",
       "      <td>8</td>\n",
       "      <td>₹8,999</td>\n",
       "      <td>5000</td>\n",
       "      <td>4.3</td>\n",
       "      <td>1</td>\n",
       "    </tr>\n",
       "    <tr>\n",
       "      <th>4</th>\n",
       "      <td>realme 9i (Prism Blue, 64 GB)</td>\n",
       "      <td>SM6225</td>\n",
       "      <td>16.76</td>\n",
       "      <td>4</td>\n",
       "      <td>64</td>\n",
       "      <td>50</td>\n",
       "      <td>₹13,499</td>\n",
       "      <td>5000</td>\n",
       "      <td>4.5</td>\n",
       "      <td>1</td>\n",
       "    </tr>\n",
       "    <tr>\n",
       "      <th>...</th>\n",
       "      <td>...</td>\n",
       "      <td>...</td>\n",
       "      <td>...</td>\n",
       "      <td>...</td>\n",
       "      <td>...</td>\n",
       "      <td>...</td>\n",
       "      <td>...</td>\n",
       "      <td>...</td>\n",
       "      <td>...</td>\n",
       "      <td>...</td>\n",
       "    </tr>\n",
       "    <tr>\n",
       "      <th>19</th>\n",
       "      <td>realme 9 Pro+ 5G (Sunrise Blue, 128 GB)</td>\n",
       "      <td>920</td>\n",
       "      <td>16.26</td>\n",
       "      <td>8</td>\n",
       "      <td>28</td>\n",
       "      <td>50</td>\n",
       "      <td>₹26,999</td>\n",
       "      <td>4500</td>\n",
       "      <td>4.3</td>\n",
       "      <td>1</td>\n",
       "    </tr>\n",
       "    <tr>\n",
       "      <th>20</th>\n",
       "      <td>realme 9 Pro+ 5G (Aurora Green, 128 GB)</td>\n",
       "      <td>920</td>\n",
       "      <td>16.26</td>\n",
       "      <td>6</td>\n",
       "      <td>28</td>\n",
       "      <td>50</td>\n",
       "      <td>₹24,999</td>\n",
       "      <td>4500</td>\n",
       "      <td>4.3</td>\n",
       "      <td>1</td>\n",
       "    </tr>\n",
       "    <tr>\n",
       "      <th>21</th>\n",
       "      <td>realme C35 (Glowing Green, 128 GB)</td>\n",
       "      <td>T616</td>\n",
       "      <td>16.76</td>\n",
       "      <td>4</td>\n",
       "      <td>28</td>\n",
       "      <td>50</td>\n",
       "      <td>₹12,999</td>\n",
       "      <td>5000</td>\n",
       "      <td>4.4</td>\n",
       "      <td>1</td>\n",
       "    </tr>\n",
       "    <tr>\n",
       "      <th>22</th>\n",
       "      <td>realme C35 (Glowing Black, 128 GB)</td>\n",
       "      <td>T616</td>\n",
       "      <td>16.76</td>\n",
       "      <td>4</td>\n",
       "      <td>28</td>\n",
       "      <td>50</td>\n",
       "      <td>₹12,999</td>\n",
       "      <td>5000</td>\n",
       "      <td>4.4</td>\n",
       "      <td>1</td>\n",
       "    </tr>\n",
       "    <tr>\n",
       "      <th>23</th>\n",
       "      <td>realme 9 Pro+ 5G (Aurora Green, 256 GB)</td>\n",
       "      <td>920</td>\n",
       "      <td>16.26</td>\n",
       "      <td>8</td>\n",
       "      <td>56</td>\n",
       "      <td>50</td>\n",
       "      <td>₹28,999</td>\n",
       "      <td>4500</td>\n",
       "      <td>4.3</td>\n",
       "      <td>1</td>\n",
       "    </tr>\n",
       "  </tbody>\n",
       "</table></div>"
      ],
      "text/plain": [
       "                                      mobile processor display ram  rom  \\\n",
       "0       realme Narzo 50i (Mint Green, 32 GB)   SC9863A   16.51   2   32   \n",
       "1     realme Narzo 50i (Carbon Black, 32 GB)   SC9863A   16.51   2   32   \n",
       "2       realme Narzo 50i (Mint Green, 64 GB)   SC9863A   16.51   4   64   \n",
       "3     realme Narzo 50i (Carbon Black, 64 GB)   SC9863A   16.51   4   64   \n",
       "4              realme 9i (Prism Blue, 64 GB)    SM6225   16.76   4   64   \n",
       "5            realme 9i (Prism Black, 128 GB)    SM6225   16.76   6   28   \n",
       "6            realme 9i (Prism Black, 128 GB)    SM6225   16.76   4   28   \n",
       "7             realme 9i (Prism Black, 64 GB)    SM6225   16.76   4   64   \n",
       "8          realme C35 (Glowing Black, 64 GB)      T616   16.76   4   64   \n",
       "9          realme C35 (Glowing Green, 64 GB)      T616   16.76   4   64   \n",
       "10   realme 9 Pro+ 5G (Aurora Green, 128 GB)       920   16.26   8   28   \n",
       "11            realme 9i (Prism Blue, 128 GB)    SM6225   16.76   4   28   \n",
       "12            realme 9i (Prism Blue, 128 GB)    SM6225   16.76   6   28   \n",
       "13          realme C31 (Light Silver, 32 GB)      T612   16.56   3   32   \n",
       "14            realme C31 (Dark Green, 32 GB)      T612   16.56   3   32   \n",
       "15          realme C31 (Light Silver, 64 GB)      T612   16.56   4   64   \n",
       "16            realme C31 (Dark Green, 64 GB)      T612   16.56   4   64   \n",
       "17  realme 9 Pro 5G (Midnight Black, 128 GB)       695   16.76   6   28   \n",
       "18    realme 9 Pro 5G (Aurora Green, 128 GB)       695   16.76   6   28   \n",
       "19   realme 9 Pro+ 5G (Sunrise Blue, 128 GB)       920   16.26   8   28   \n",
       "20   realme 9 Pro+ 5G (Aurora Green, 128 GB)       920   16.26   6   28   \n",
       "21        realme C35 (Glowing Green, 128 GB)      T616   16.76   4   28   \n",
       "22        realme C35 (Glowing Black, 128 GB)      T616   16.76   4   28   \n",
       "23   realme 9 Pro+ 5G (Aurora Green, 256 GB)       920   16.26   8   56   \n",
       "\n",
       "    rear_camera(in MP)    price  battery rating  warranty  \n",
       "0                    8   ₹7,499     5000    4.5         1  \n",
       "1                    8   ₹7,499     5000    4.5         1  \n",
       "2                    8   ₹8,999     5000    4.3         1  \n",
       "3                    8   ₹8,999     5000    4.3         1  \n",
       "4                   50  ₹13,499     5000    4.5         1  \n",
       "5                   50  ₹15,999     5000    4.5         1  \n",
       "6                   50  ₹14,999     5000    4.5         1  \n",
       "7                   50  ₹13,499     5000    4.5         1  \n",
       "8                   50  ₹11,999     5000    4.4         1  \n",
       "9                   50  ₹11,999     5000    4.4         1  \n",
       "10                  50  ₹26,999     4500    4.3         1  \n",
       "11                  50  ₹14,999     5000    4.5         1  \n",
       "12                  50  ₹15,999     5000    4.5         1  \n",
       "13                  13   ₹9,299     5000    4.5         1  \n",
       "14                  13   ₹9,299     5000    4.5         1  \n",
       "15                  13   ₹9,999     5000    4.4         1  \n",
       "16                  13   ₹9,999     5000    4.4         1  \n",
       "17                  64  ₹18,999     5000    4.3         1  \n",
       "18                  64  ₹18,999     5000    4.3         1  \n",
       "19                  50  ₹26,999     4500    4.3         1  \n",
       "20                  50  ₹24,999     4500    4.3         1  \n",
       "21                  50  ₹12,999     5000    4.4         1  \n",
       "22                  50  ₹12,999     5000    4.4         1  \n",
       "23                  50  ₹28,999     4500    4.3         1  "
      ]
     },
     "execution_count": 53,
     "metadata": {},
     "output_type": "execute_result"
    }
   ],
   "source": [
    "data = pd.DataFrame({'mobile':mobile_data, 'processor':processor, 'display' : cm_data,\n",
    "                     'ram' : ram, 'rom' : rom_data, 'rear_camera(in MP)' : rear_camera,\n",
    "                     'price':price_data, 'battery' : battery, 'rating':rating_data, 'warranty' : warranty })\n",
    "data"
   ]
  },
  {
   "cell_type": "code",
   "execution_count": 54,
   "metadata": {},
   "outputs": [],
   "source": [
    "data.to_csv('flipkart_realme4.csv')"
   ]
  }
 ],
 "metadata": {
  "kernelspec": {
   "display_name": "Python 3",
   "language": "python",
   "name": "python3"
  },
  "language_info": {
   "codemirror_mode": {
    "name": "ipython",
    "version": 3
   },
   "file_extension": ".py",
   "mimetype": "text/x-python",
   "name": "python",
   "nbconvert_exporter": "python",
   "pygments_lexer": "ipython3",
   "version": "3.8.3"
  }
 },
 "nbformat": 4,
 "nbformat_minor": 4
}
